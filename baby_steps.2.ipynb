{
 "cells": [
  {
   "cell_type": "code",
   "execution_count": null,
   "metadata": {},
   "outputs": [],
   "source": [
    "#    'H' is a quick guide for all shortcuts"
   ]
  },
  {
   "cell_type": "code",
   "execution_count": 1,
   "metadata": {},
   "outputs": [
    {
     "name": "stdout",
     "output_type": "stream",
     "text": [
      "I have a lovely dog named Spot\n",
      "I have a lovely dog named Fido\n",
      "I have a lovely dog named Raks\n"
     ]
    }
   ],
   "source": [
    "# Functions\n",
    "\n",
    "#Sad life of a person who had to code many times\n",
    "\n",
    "print(\"I have a lovely dog named Spot\")\n",
    "print(\"I have a lovely dog named Fido\")\n",
    "print(\"I have a lovely dog named Raks\")"
   ]
  },
  {
   "cell_type": "code",
   "execution_count": 5,
   "metadata": {},
   "outputs": [
    {
     "name": "stdout",
     "output_type": "stream",
     "text": [
      "I have a lovely dog named Teddy\n",
      "Glory to all living things !\n"
     ]
    }
   ],
   "source": [
    "def express_love(name=None):    #Default value if None\n",
    "    \"\"\"Expresses love to all creation, or specific dog.\"\"\"    #This is a proper and civilized way to code. Description\n",
    "    if name is None:                 #Special behavior if no arguement\n",
    "        print(\"Glory to all living things !\")\n",
    "    else:\n",
    "        print(\"I have a lovely dog named\",name)\n",
    "\n",
    "    \n",
    "express_love(\"Teddy\")\n",
    "express_love() #Default value"
   ]
  },
  {
   "cell_type": "code",
   "execution_count": 8,
   "metadata": {},
   "outputs": [
    {
     "name": "stdout",
     "output_type": "stream",
     "text": [
      "['Spot', 'Fido', 'Rex', 'Teddy']\n",
      "The loop starts now:\n",
      "I have a lovely dog named Spot\n",
      "I have a lovely dog named Fido\n",
      "I have a lovely dog named Rex\n",
      "I have a lovely dog named Teddy\n"
     ]
    }
   ],
   "source": [
    "#Lets glorify several dogs in a row. A loop if you will. \n",
    "\n",
    "names = ['Spot','Fido','Rex','Teddy']\n",
    "print(names)\n",
    "\n",
    "print(\"The loop starts now:\")\n",
    "for name in names:     #'for' makes your running variable 'name' take values from the list 'names'\n",
    "    express_love(name)"
   ]
  },
  {
   "cell_type": "code",
   "execution_count": 13,
   "metadata": {},
   "outputs": [
    {
     "name": "stdout",
     "output_type": "stream",
     "text": [
      "4\n",
      "14\n",
      "5\n",
      "14 0\n",
      "5\n"
     ]
    }
   ],
   "source": [
    "#Functions that do something and give it back to you\n",
    "\n",
    "#Built in\n",
    "print(len(names)) #Takes something, returns the length of it\n",
    "\n",
    "#Imagine that somebody has to create [x squared + 5] again and again\n",
    "print(3**2+5)\n",
    "print(0**2+5)\n",
    "\n",
    "def my_calculation(x):   #Strategic choice of not having a default value. We want it to protest\n",
    "    \"\"\"Calculates VERY important formula in which OUR LIFE hinges.\"\"\"\n",
    "    return x**2+5\n",
    "\n",
    "print(my_calculation(3))\n",
    "print(my_calculation(0))"
   ]
  },
  {
   "cell_type": "markdown",
   "metadata": {},
   "source": [
    "# Markdown\n",
    "\n",
    "Markdown is cool !!!! Here's what happens when you write !\n",
    "\n",
    "If you want a new paragraph you need to skip a line\n",
    "\n",
    "* To do a bullet point list\n",
    "* You use asterisks and a space\n",
    "\n",
    "To make a link, you write the words [in square brackets](http://google.com) followed by a link in round brackets\n",
    "\n",
    "## Second level title\n",
    "### Third level title\n",
    "\n",
    "If you want to make your codin look like code, you put your stuff in REVERSE quotation marks, like this:\n",
    "`print(5)` `5+5=10`\n",
    "\n",
    "Another fancy thing is math ! Math thingies are little snipets of LaTeX, and go in between dollar signs, like this:\n",
    "$5+5=10$ $\\displaystyle\\sum_(i=0)^(\\inf) $"
   ]
  },
  {
   "cell_type": "code",
   "execution_count": null,
   "metadata": {},
   "outputs": [],
   "source": []
  }
 ],
 "metadata": {
  "kernelspec": {
   "display_name": "Python 3",
   "language": "python",
   "name": "python3"
  },
  "language_info": {
   "codemirror_mode": {
    "name": "ipython",
    "version": 3
   },
   "file_extension": ".py",
   "mimetype": "text/x-python",
   "name": "python",
   "nbconvert_exporter": "python",
   "pygments_lexer": "ipython3",
   "version": "3.7.4"
  }
 },
 "nbformat": 4,
 "nbformat_minor": 2
}
