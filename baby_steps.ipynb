{
 "cells": [
  {
   "cell_type": "code",
   "execution_count": 21,
   "metadata": {},
   "outputs": [
    {
     "data": {
      "text/plain": [
       "5"
      ]
     },
     "execution_count": 21,
     "metadata": {},
     "output_type": "execute_result"
    }
   ],
   "source": [
    "5\n"
   ]
  },
  {
   "cell_type": "code",
   "execution_count": 22,
   "metadata": {},
   "outputs": [
    {
     "data": {
      "text/plain": [
       "9"
      ]
     },
     "execution_count": 22,
     "metadata": {},
     "output_type": "execute_result"
    }
   ],
   "source": [
    "3**2"
   ]
  },
  {
   "cell_type": "code",
   "execution_count": 23,
   "metadata": {},
   "outputs": [],
   "source": [
    "#thats a comment"
   ]
  },
  {
   "cell_type": "code",
   "execution_count": 24,
   "metadata": {},
   "outputs": [],
   "source": [
    "#and this is one as well"
   ]
  },
  {
   "cell_type": "code",
   "execution_count": 25,
   "metadata": {},
   "outputs": [],
   "source": [
    "#we're doing variables now"
   ]
  },
  {
   "cell_type": "code",
   "execution_count": 26,
   "metadata": {},
   "outputs": [
    {
     "data": {
      "text/plain": [
       "2"
      ]
     },
     "execution_count": 26,
     "metadata": {},
     "output_type": "execute_result"
    }
   ],
   "source": [
    "a = 2\n",
    "a"
   ]
  },
  {
   "cell_type": "code",
   "execution_count": 30,
   "metadata": {},
   "outputs": [
    {
     "name": "stdout",
     "output_type": "stream",
     "text": [
      "0\n",
      "Haha\n",
      "1\n",
      "Haha\n",
      "2\n",
      "Haha\n",
      "3\n",
      "Haha\n",
      "4\n",
      "Haha\n",
      "LOL\n"
     ]
    }
   ],
   "source": [
    "#Lets do a loop\n",
    "for i in  range(5):\n",
    "    print(i)\n",
    "    print('Haha')\n",
    "print('LOL') # see learning moment 3\n",
    "\n",
    "#Learning moment: \n",
    "# 1) DON'T FORGET : AT THE END\n",
    "# 2) The inside of the loop is marked by indentation, opposed to {} like in R\n",
    "# 3) lack of indentation excludes the loop \n",
    "# 4) Python is a zero-indexed language !!!!!!!! So, range(5) produces 5 numbers, from 0-4. "
   ]
  },
  {
   "cell_type": "code",
   "execution_count": 38,
   "metadata": {},
   "outputs": [
    {
     "name": "stdout",
     "output_type": "stream",
     "text": [
      "[2, 4, 8]\n",
      "First element: 2\n",
      "Second element: 4\n",
      "Third element: 8\n",
      "2\n",
      "4\n",
      "8\n"
     ]
    }
   ],
   "source": [
    "#Lists\n",
    "b = [2,4,8]\n",
    "print(b)\n",
    "print('First element:' , b[0]) #Zero-th element is 2!\n",
    "print('Second element:' , b[1]) #One-th element is 4!\n",
    "print('Third element:' , b[2]) #Second-th element is 8!\n",
    "\n",
    "for i in b:\n",
    "    print(i)"
   ]
  },
  {
   "cell_type": "code",
   "execution_count": 39,
   "metadata": {},
   "outputs": [
    {
     "name": "stdout",
     "output_type": "stream",
     "text": [
      "Haha here's your number: 3 , silly!\n",
      "Haha here's your number: 8 , silly!\n"
     ]
    }
   ],
   "source": [
    "#Lets make a function\n",
    "\n",
    "def my_print(i):\n",
    "    print(\"Haha here's your number:\" , i , \", silly!\")\n",
    "    \n",
    "my_print(3)\n",
    "my_print(8)"
   ]
  }
 ],
 "metadata": {
  "kernelspec": {
   "display_name": "Python 3",
   "language": "python",
   "name": "python3"
  },
  "language_info": {
   "codemirror_mode": {
    "name": "ipython",
    "version": 3
   },
   "file_extension": ".py",
   "mimetype": "text/x-python",
   "name": "python",
   "nbconvert_exporter": "python",
   "pygments_lexer": "ipython3",
   "version": "3.7.4"
  }
 },
 "nbformat": 4,
 "nbformat_minor": 2
}
